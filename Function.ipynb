{
  "nbformat": 4,
  "nbformat_minor": 0,
  "metadata": {
    "colab": {
      "provenance": []
    },
    "kernelspec": {
      "name": "python3",
      "display_name": "Python 3"
    },
    "language_info": {
      "name": "python"
    }
  },
  "cells": [
    {
      "cell_type": "code",
      "source": [
        "#Addition\n",
        "def add(a,b):\n",
        "  sum=a+b\n",
        "  return sum\n",
        "add(5,4)"
      ],
      "metadata": {
        "colab": {
          "base_uri": "https://localhost:8080/"
        },
        "id": "6r5izGlP-S-b",
        "outputId": "eaa93377-79f8-4447-f7f2-0fe7f51cf67c"
      },
      "execution_count": 2,
      "outputs": [
        {
          "output_type": "execute_result",
          "data": {
            "text/plain": [
              "9"
            ]
          },
          "metadata": {},
          "execution_count": 2
        }
      ]
    },
    {
      "cell_type": "code",
      "source": [],
      "metadata": {
        "id": "r-Vb67pR-S6S"
      },
      "execution_count": null,
      "outputs": []
    },
    {
      "cell_type": "code",
      "source": [
        "#Substraction\n",
        "def sub(a,b):\n",
        "    x=b-a\n",
        "    return x\n",
        "y=sub(5,45)\n",
        "print(y)"
      ],
      "metadata": {
        "colab": {
          "base_uri": "https://localhost:8080/"
        },
        "id": "kDJ7hxFk_W4Z",
        "outputId": "1541ebb2-90ff-4cd4-e057-f1e9c21bf203"
      },
      "execution_count": 3,
      "outputs": [
        {
          "output_type": "stream",
          "name": "stdout",
          "text": [
            "40\n"
          ]
        }
      ]
    },
    {
      "cell_type": "code",
      "source": [
        "#Multiplaction\n",
        "def mul(a,b):\n",
        "    sum=a*b\n",
        "    return sum\n",
        "x=mul(5,8)\n",
        "print(x)"
      ],
      "metadata": {
        "colab": {
          "base_uri": "https://localhost:8080/"
        },
        "id": "BUpUK9o7-S3J",
        "outputId": "75431a9a-6322-4f03-8c01-1514c70a3720"
      },
      "execution_count": 4,
      "outputs": [
        {
          "output_type": "stream",
          "name": "stdout",
          "text": [
            "40\n"
          ]
        }
      ]
    },
    {
      "cell_type": "code",
      "source": [
        "#Square\n",
        "def square(a):\n",
        "    sum=a*a\n",
        "    return sum\n",
        "x=square(5)\n",
        "print(x)"
      ],
      "metadata": {
        "id": "YGqEqz5p-Sti"
      },
      "execution_count": null,
      "outputs": []
    },
    {
      "cell_type": "code",
      "source": [
        "#Divition\n",
        "def div(a,b):\n",
        "    sum=a/b\n",
        "    return sum\n",
        "x=div(45,4)\n",
        "print(x)"
      ],
      "metadata": {
        "id": "92n3fSBK-Sei"
      },
      "execution_count": null,
      "outputs": []
    },
    {
      "cell_type": "markdown",
      "source": [
        "Taking user input"
      ],
      "metadata": {
        "id": "cNVS_dhk-DOb"
      }
    },
    {
      "cell_type": "code",
      "execution_count": 1,
      "metadata": {
        "colab": {
          "base_uri": "https://localhost:8080/"
        },
        "id": "P_cm0jEU-Aiz",
        "outputId": "8db0c431-42f1-4a5c-eb19-7d77e27297a6"
      },
      "outputs": [
        {
          "output_type": "stream",
          "name": "stdout",
          "text": [
            "Enter the number: 4\n",
            "Even\n"
          ]
        }
      ],
      "source": [
        "number=int(input(\"Enter the number: \"))\n",
        "def even_odd(number):\n",
        "    if number % 2 ==0:\n",
        "        print(\"Even\")\n",
        "    else:\n",
        "        print(\"Odd\")\n",
        "\n",
        "even_odd(number)"
      ]
    },
    {
      "cell_type": "markdown",
      "source": [
        "Checking prime number"
      ],
      "metadata": {
        "id": "yP_btIn0KmYa"
      }
    },
    {
      "cell_type": "code",
      "source": [
        "def is_prime(n):\n",
        "    for i in range(2,n):\n",
        "        if n%i==0:\n",
        "            return False\n",
        "        return True\n",
        "n=int(input(\"Enter a number: \"))\n",
        "if is_prime(n):\n",
        "    print(f\"{n} is a prime number\")\n",
        "else:\n",
        "    print(f\"{n} is not a prime number\")"
      ],
      "metadata": {
        "colab": {
          "base_uri": "https://localhost:8080/"
        },
        "id": "szhp7WWoAXY8",
        "outputId": "d7ecdfe2-e00e-48de-ddc6-1265f0eccf6e"
      },
      "execution_count": 5,
      "outputs": [
        {
          "output_type": "stream",
          "name": "stdout",
          "text": [
            "Enter a number: 6\n",
            "6 is not a prime number\n"
          ]
        }
      ]
    },
    {
      "cell_type": "markdown",
      "source": [
        "Write a Python function to find the maximum of three numbers."
      ],
      "metadata": {
        "id": "u8m68uTl4tSg"
      }
    },
    {
      "cell_type": "code",
      "source": [
        "def maxnum(x,y,z):\n",
        "    if x>y and x>z:\n",
        "        return x\n",
        "    elif y>x and y>z:\n",
        "        return y\n",
        "    elif z>x and z>y:\n",
        "        return z\n",
        "    else:\n",
        "        pass\n",
        "\n",
        "n=maxnum(45,76,90)\n",
        "print(n)"
      ],
      "metadata": {
        "colab": {
          "base_uri": "https://localhost:8080/"
        },
        "id": "5j5hLP90KqOx",
        "outputId": "85e2d054-bd53-438e-a16d-7afdbacdd4dc"
      },
      "execution_count": 1,
      "outputs": [
        {
          "output_type": "stream",
          "name": "stdout",
          "text": [
            "90\n"
          ]
        }
      ]
    },
    {
      "cell_type": "markdown",
      "source": [
        "Write a Python function to sum all the numbers in a list.\n",
        "Sample List : (8, 2, 3, 0, 7)"
      ],
      "metadata": {
        "id": "eVRWB9RnDB3I"
      }
    },
    {
      "cell_type": "code",
      "source": [
        "def sum(a,b,c,d,e):\n",
        "    total=a+b+c+d+e\n",
        "    return total\n",
        "n=sum(8,2,3,0,7)\n",
        "print(n)"
      ],
      "metadata": {
        "colab": {
          "base_uri": "https://localhost:8080/"
        },
        "id": "U2_EEeR-4woG",
        "outputId": "231e3835-168f-4177-9686-e4c08e7faa1e"
      },
      "execution_count": 2,
      "outputs": [
        {
          "output_type": "stream",
          "name": "stdout",
          "text": [
            "20\n"
          ]
        }
      ]
    },
    {
      "cell_type": "markdown",
      "source": [
        "Write a Python program to reverse a string.\n",
        "Sample String : \"1234abcd\""
      ],
      "metadata": {
        "id": "hNNKi0fKC7pG"
      }
    },
    {
      "cell_type": "code",
      "source": [
        "def revrs(str):\n",
        "    rstr=''\n",
        "    index=len(str)\n",
        "    while index>0:\n",
        "        rstr += str[index-1]\n",
        "        index=index-1\n",
        "    return rstr\n",
        "print(revrs('1234abcd'))"
      ],
      "metadata": {
        "colab": {
          "base_uri": "https://localhost:8080/"
        },
        "id": "ppVn_tgtC5Dc",
        "outputId": "70a701a7-8744-453d-fb54-e39dfaf03d13"
      },
      "execution_count": 3,
      "outputs": [
        {
          "output_type": "stream",
          "name": "stdout",
          "text": [
            "dcba4321\n"
          ]
        }
      ]
    },
    {
      "cell_type": "markdown",
      "source": [
        " Write a Python function to calculate the factorial of a number (a non-negative integer). The function accepts the number as an argument."
      ],
      "metadata": {
        "id": "PFGqUX3ZGp7k"
      }
    },
    {
      "cell_type": "code",
      "source": [
        "def fact(n):\n",
        "    if (n==0) or (n==1):\n",
        "        return 1\n",
        "    else:\n",
        "        return n*fact(n-1)\n",
        "n=int(input(\"Enter the number: \"))\n",
        "print(fact(n))"
      ],
      "metadata": {
        "colab": {
          "base_uri": "https://localhost:8080/"
        },
        "id": "KTsigmT6GpjB",
        "outputId": "444069d3-5b51-45fa-a7fd-a5df9f26dfe1"
      },
      "execution_count": 4,
      "outputs": [
        {
          "output_type": "stream",
          "name": "stdout",
          "text": [
            "Enter the number: 5\n",
            "120\n"
          ]
        }
      ]
    },
    {
      "cell_type": "markdown",
      "source": [
        " Write a  Python function to check whether a number falls within a given range."
      ],
      "metadata": {
        "id": "W_ELwPNpJ07W"
      }
    },
    {
      "cell_type": "code",
      "source": [
        "def inrange(n):\n",
        "    if n in range(4,8):\n",
        "        print(\"In range\")\n",
        "    else:\n",
        "        print(\"Not in range\")\n",
        "n=int(input(\"Enter the number: \"))\n",
        "print(inrange(n))"
      ],
      "metadata": {
        "colab": {
          "base_uri": "https://localhost:8080/"
        },
        "id": "p5Ic4vrn5pmU",
        "outputId": "868f537c-2e26-4695-da09-386abb55a1d1"
      },
      "execution_count": 5,
      "outputs": [
        {
          "output_type": "stream",
          "name": "stdout",
          "text": [
            "Enter the number: 7\n",
            "In range\n",
            "None\n"
          ]
        }
      ]
    },
    {
      "cell_type": "markdown",
      "source": [
        "\n",
        "\n",
        "Write a Python function that accepts a string and counts the number of upper and lower case letters."
      ],
      "metadata": {
        "id": "uG-hUBrEe9hS"
      }
    },
    {
      "cell_type": "code",
      "source": [
        "def count_charecter(s):\n",
        "    t={'upper':0,\"lower\":0}\n",
        "    for i in s:\n",
        "        if i.isupper():\n",
        "            t['upper']+=1\n",
        "        elif i.islower():\n",
        "            t[\"lower\"] +=1\n",
        "        else:\n",
        "            pass\n",
        "    print(\"Orginal Text is: \",s)\n",
        "    print(\"Upper case: \", t['upper'])\n",
        "    print(\"Lower case: \",t[\"lower\"])\n",
        "count_charecter(input(\"Enter the text: \") )"
      ],
      "metadata": {
        "colab": {
          "base_uri": "https://localhost:8080/"
        },
        "id": "D7JbrLFmJ1p8",
        "outputId": "cca13824-2591-42f2-83bf-53871c10e3f2"
      },
      "execution_count": 6,
      "outputs": [
        {
          "output_type": "stream",
          "name": "stdout",
          "text": [
            "Enter the text: AsifikbaL\n",
            "Orginal Text is:  AsifikbaL\n",
            "Upper case:  2\n",
            "Lower case:  7\n"
          ]
        }
      ]
    },
    {
      "cell_type": "markdown",
      "source": [
        "Write a  Python function that takes a list and returns a new list with distinct elements from the first list."
      ],
      "metadata": {
        "id": "Z0scM5jUfI_T"
      }
    },
    {
      "cell_type": "code",
      "source": [
        "def uniqque_list(l):\n",
        "    x=[]\n",
        "    for s in l:\n",
        "        if s not in x:\n",
        "            x.append(s)\n",
        "    return x\n",
        "print(uniqque_list([1, 2, 3, 3, 3, 3, 4, 5]))"
      ],
      "metadata": {
        "colab": {
          "base_uri": "https://localhost:8080/"
        },
        "id": "Jzi0XBVde-4L",
        "outputId": "33ee94f9-6e7b-40a3-a7d8-9c9176acf33e"
      },
      "execution_count": 7,
      "outputs": [
        {
          "output_type": "stream",
          "name": "stdout",
          "text": [
            "[1, 2, 3, 4, 5]\n"
          ]
        }
      ]
    },
    {
      "cell_type": "markdown",
      "source": [
        "Write a  Python program to print the even numbers from a given list."
      ],
      "metadata": {
        "id": "BphQISmI1CZC"
      }
    },
    {
      "cell_type": "code",
      "source": [
        "def is_even(n):\n",
        "    x=[]\n",
        "    for i in n:\n",
        "        if i%2==0:\n",
        "            x.append(i)\n",
        "        else:\n",
        "            pass\n",
        "    return x\n",
        "print(is_even([1, 2, 3, 4, 5, 6, 7, 8, 9]))"
      ],
      "metadata": {
        "id": "_7UOsBxTvKJG"
      },
      "execution_count": null,
      "outputs": []
    }
  ]
}